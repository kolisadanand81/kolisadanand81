{
  "cells": [
    {
      "cell_type": "markdown",
      "metadata": {},
      "source": [
        "# \u2708\ufe0f Flight Delay Analysis Mini Project\n",
        "## Databricks Community Edition Practice\n",
        "---",
        "### Step 1: Ingest Airlines Dataset"
      ]
    },
    {
      "cell_type": "code",
      "metadata": {},
      "execution_count": null,
      "outputs": [],
      "source": [
        "# Read CSV file into a DataFrame\n",
        "df = spark.read.option('header', True).option('inferSchema', True).csv('/databricks-datasets/airlines/part-00000')\n",
        "df.show(5)"
      ]
    },
    {
      "cell_type": "markdown",
      "metadata": {},
      "source": [
        "### Step 2: Clean Missing Values"
      ]
    },
    {
      "cell_type": "code",
      "metadata": {},
      "execution_count": null,
      "outputs": [],
      "source": [
        "# Drop rows with missing important fields\n",
        "df_clean = df.na.drop(subset=['DepDelay', 'ArrDelay'])\n",
        "df_clean.count()"
      ]
    },
    {
      "cell_type": "markdown",
      "metadata": {},
      "source": [
        "### Step 3: Save as Delta Table"
      ]
    },
    {
      "cell_type": "code",
      "metadata": {},
      "execution_count": null,
      "outputs": [],
      "source": [
        "# Save cleaned data as Delta\n",
        "df_clean.write.format('delta').mode('overwrite').save('/tmp/airlines_delta_mini')"
      ]
    },
    {
      "cell_type": "markdown",
      "metadata": {},
      "source": [
        "### Step 4: Create SQL Table from Delta"
      ]
    },
    {
      "cell_type": "code",
      "metadata": {},
      "execution_count": null,
      "outputs": [],
      "source": [
        "# Create SQL Table\n",
        "spark.sql('CREATE TABLE IF NOT EXISTS airlines_delta_mini USING DELTA LOCATION \"/tmp/airlines_delta_mini\"')"
      ]
    },
    {
      "cell_type": "markdown",
      "metadata": {},
      "source": [
        "### Step 5: Top 10 Delayed Origin Airports"
      ]
    },
    {
      "cell_type": "code",
      "metadata": {},
      "execution_count": null,
      "outputs": [],
      "source": [
        "spark.sql('SELECT Origin, AVG(DepDelay) as AvgDepDelay FROM airlines_delta_mini GROUP BY Origin ORDER BY AvgDepDelay DESC LIMIT 10').show()"
      ]
    },
    {
      "cell_type": "markdown",
      "metadata": {},
      "source": [
        "### Step 6: Airlines with Best Average Arrival Time"
      ]
    },
    {
      "cell_type": "code",
      "metadata": {},
      "execution_count": null,
      "outputs": [],
      "source": [
        "spark.sql('SELECT UniqueCarrier, AVG(ArrDelay) as AvgArrDelay FROM airlines_delta_mini GROUP BY UniqueCarrier ORDER BY AvgArrDelay ASC LIMIT 10').show()"
      ]
    },
    {
      "cell_type": "markdown",
      "metadata": {},
      "source": [
        "### Step 7: (Bonus) Visualize Delay Distribution"
      ]
    },
    {
      "cell_type": "code",
      "metadata": {},
      "execution_count": null,
      "outputs": [],
      "source": [
        "# Optional if Databricks CE UI allows\n",
        "df_clean.select('DepDelay').sample(False, 0.1).toPandas().hist(column='DepDelay', bins=50)"
      ]
    }
  ],
  "metadata": {
    "kernelspec": {
      "display_name": "Python 3",
      "language": "python",
      "name": "python3"
    },
    "language_info": {
      "name": "python",
      "version": "3.8"
    }
  },
  "nbformat": 4,
  "nbformat_minor": 2
}